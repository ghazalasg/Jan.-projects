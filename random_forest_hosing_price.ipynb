{
  "nbformat": 4,
  "nbformat_minor": 0,
  "metadata": {
    "colab": {
      "provenance": [],
      "authorship_tag": "ABX9TyMJc0khMjSbBMWXn9V1nhkg",
      "include_colab_link": true
    },
    "kernelspec": {
      "name": "python3",
      "display_name": "Python 3"
    },
    "language_info": {
      "name": "python"
    }
  },
  "cells": [
    {
      "cell_type": "markdown",
      "metadata": {
        "id": "view-in-github",
        "colab_type": "text"
      },
      "source": [
        "<a href=\"https://colab.research.google.com/github/ghazalasg/Jan.-projects/blob/main/random_forest_hosing_price.ipynb\" target=\"_parent\"><img src=\"https://colab.research.google.com/assets/colab-badge.svg\" alt=\"Open In Colab\"/></a>"
      ]
    },
    {
      "cell_type": "code",
      "execution_count": null,
      "metadata": {
        "id": "9EQwHkq-yAmj"
      },
      "outputs": [],
      "source": [
        "import pandas as pd\n",
        "\n",
        "housing_data=pd.read_csv('/content/sample_data/california_housing_test.csv')\n",
        "housing_data.head()"
      ]
    },
    {
      "cell_type": "code",
      "source": [
        "from sklearn.ensemble import RandomForestRegressor\n",
        "from sklearn.metrics import mean_absolute_error\n",
        "\n",
        "def rf(X_train,X_val,y_train,y_val):\n",
        "  model=RandomForestRegressor(random_state=0)\n",
        "  model.fit(X_train,y_train)\n",
        "  prediction= model.predict(X_val)\n",
        "  error=mean_absolute_error(y_val,prediction)\n",
        "  print(\"error=\", error)"
      ],
      "metadata": {
        "id": "s-kRzWnk0rhB"
      },
      "execution_count": 23,
      "outputs": []
    },
    {
      "cell_type": "code",
      "source": [
        "from sklearn.model_selection import train_test_split"
      ],
      "metadata": {
        "id": "ZF1O37fM0r2F"
      },
      "execution_count": 24,
      "outputs": []
    },
    {
      "cell_type": "code",
      "source": [
        "housing_filtered=housing_data.dropna()\n",
        "y=housing_filtered.median_house_value\n",
        "housing_filtered.columns"
      ],
      "metadata": {
        "id": "KuybnHdSyY12"
      },
      "execution_count": null,
      "outputs": []
    },
    {
      "cell_type": "code",
      "source": [
        "features= ['housing_median_age', 'total_rooms','total_bedrooms']\n",
        "num_numeric = housing_filtered.select_dtypes(include=['number']).shape[1]\n",
        "print(num_numeric)\n",
        "X=housing_filtered[features]"
      ],
      "metadata": {
        "id": "yyQ9kaI0y1AG"
      },
      "execution_count": null,
      "outputs": []
    },
    {
      "cell_type": "code",
      "source": [
        "X_train,X_val,y_train,y_val=train_test_split(X,y,random_state=0)"
      ],
      "metadata": {
        "id": "O9pyaoIPzwYg"
      },
      "execution_count": 27,
      "outputs": []
    },
    {
      "cell_type": "code",
      "source": [
        "\n",
        "rf(X_train,X_val,y_train,y_val)"
      ],
      "metadata": {
        "id": "4fTgZeKc2N23"
      },
      "execution_count": null,
      "outputs": []
    }
  ]
}