{
  "nbformat": 4,
  "nbformat_minor": 0,
  "metadata": {
    "colab": {
      "provenance": [],
      "authorship_tag": "ABX9TyNXrFGkKv5cVGFmnm2tvQtn",
      "include_colab_link": true
    },
    "kernelspec": {
      "name": "python3",
      "display_name": "Python 3"
    },
    "language_info": {
      "name": "python"
    }
  },
  "cells": [
    {
      "cell_type": "markdown",
      "metadata": {
        "id": "view-in-github",
        "colab_type": "text"
      },
      "source": [
        "<a href=\"https://colab.research.google.com/github/ghazalasg/Jan.-projects/blob/main/Housing_Price_DecisionTree.ipynb\" target=\"_parent\"><img src=\"https://colab.research.google.com/assets/colab-badge.svg\" alt=\"Open In Colab\"/></a>"
      ]
    },
    {
      "cell_type": "code",
      "execution_count": 1,
      "metadata": {
        "id": "aS2wiWyGgAPY"
      },
      "outputs": [],
      "source": [
        "import pandas as pd\n",
        "import numpy as np\n",
        "from sklearn.tree import DecisionTreeRegressor\n",
        "from sklearn.model_selection import train_test_split\n",
        "from sklearn.metrics import mean_absolute_error"
      ]
    },
    {
      "cell_type": "code",
      "source": [
        "def mdt(max_leaf_nodes, X_train, X_val,y_train, y_val):\n",
        "  model=DecisionTreeRegressor(max_leaf_nodes=max_leaf_nodes,random_state=0)\n",
        "  model.fit(X_train,y_train)\n",
        "  prediction= model.predict(X_val)\n",
        "  MAE=mean_absolute_error(y_val, prediction)\n",
        "  return(MAE)\n"
      ],
      "metadata": {
        "id": "tRx2MNmonGtV"
      },
      "execution_count": 2,
      "outputs": []
    },
    {
      "cell_type": "code",
      "source": [
        "housing_data=pd.read_csv('/content/sample_data/california_housing_train.csv') # this is the sample dataset of google colab\n",
        "housing_data.head()"
      ],
      "metadata": {
        "id": "CiM6kLaMh0cc"
      },
      "execution_count": null,
      "outputs": []
    },
    {
      "cell_type": "code",
      "source": [
        "filtered_housing_data=housing_data.dropna(axis=0)\n",
        "y=filtered_housing_data.median_house_value\n",
        "cl=filtered_housing_data.columns\n",
        "print(cl)"
      ],
      "metadata": {
        "id": "ceRJuoQij8Rl"
      },
      "execution_count": null,
      "outputs": []
    },
    {
      "cell_type": "code",
      "source": [
        "features=['housing_median_age', 'total_rooms', 'total_bedrooms']\n",
        "X=filtered_housing_data[features]"
      ],
      "metadata": {
        "id": "PqBbShARkXgT"
      },
      "execution_count": 5,
      "outputs": []
    },
    {
      "cell_type": "code",
      "source": [
        "X_train,X_val,y_train,y_val=train_test_split(X,y,random_state=0)\n",
        "max_leaf_size_candidate=[5,10,50,100, 500]\n",
        "for leaf_size in max_leaf_size_candidate:\n",
        "  mdt_value=mdt(leaf_size,X_train,X_val,y_train,y_val)\n",
        "  print(\"Max leaf nodes: %d  \\t\\t Mean Absolute Error:  %d\" %(leaf_size, mdt_value))\n",
        "\n",
        "scores = {leaf_size: mdt(leaf_size, X_train, X_val, y_train,y_val)\n",
        "         for leaf_size in max_leaf_size_candidate}\n",
        "best_tree_size = min(scores, key=scores.get)\n",
        "print(best_tree_size)"
      ],
      "metadata": {
        "id": "qFX-lzdhl65w"
      },
      "execution_count": null,
      "outputs": []
    },
    {
      "cell_type": "code",
      "source": [
        "final_model=DecisionTreeRegressor(max_leaf_nodes=100,random_state=0)\n",
        "final_model.fit(X,y)"
      ],
      "metadata": {
        "id": "QPE3UB3MGKcS"
      },
      "execution_count": null,
      "outputs": []
    }
  ]
}