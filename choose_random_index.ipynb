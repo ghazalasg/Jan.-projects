{
  "nbformat": 4,
  "nbformat_minor": 0,
  "metadata": {
    "colab": {
      "provenance": [],
      "authorship_tag": "ABX9TyPvdMFPWDX3UT0MVnaM8Tou",
      "include_colab_link": true
    },
    "kernelspec": {
      "name": "python3",
      "display_name": "Python 3"
    },
    "language_info": {
      "name": "python"
    }
  },
  "cells": [
    {
      "cell_type": "markdown",
      "metadata": {
        "id": "view-in-github",
        "colab_type": "text"
      },
      "source": [
        "<a href=\"https://colab.research.google.com/github/ghazalasg/Jan.-projects/blob/main/choose_random_index.ipynb\" target=\"_parent\"><img src=\"https://colab.research.google.com/assets/colab-badge.svg\" alt=\"Open In Colab\"/></a>"
      ]
    },
    {
      "cell_type": "code",
      "execution_count": 51,
      "metadata": {
        "id": "ZRL0Pzw2HzdA"
      },
      "outputs": [],
      "source": [
        "import numpy as np\n",
        "import random\n",
        "\n",
        "\n",
        "def RN(inx_number):\n",
        "  if inx_number==0:\n",
        "    print( \"The index can't be ZERO! Please change the inx_number\")\n",
        "  Rn_list=[]\n",
        "  for i in range(inx_number):\n",
        "    input_number=input(\"insert a new number\")\n",
        "    Rn_list_i=Rn_list.append(input_number)\n",
        "    if i==inx_number-1:\n",
        "       print(random.choice(Rn_list))\n",
        "    else:\n",
        "       i=i+1"
      ]
    },
    {
      "cell_type": "code",
      "source": [
        "RN(6)"
      ],
      "metadata": {
        "colab": {
          "base_uri": "https://localhost:8080/"
        },
        "id": "ODZ97_AiJ2BE",
        "outputId": "c238419d-a0c0-484e-fd4d-0ef29519094d"
      },
      "execution_count": 52,
      "outputs": [
        {
          "output_type": "stream",
          "name": "stdout",
          "text": [
            "insert a new number6\n",
            "insert a new number123\n",
            "insert a new number246\n",
            "insert a new number85\n",
            "insert a new number987\n",
            "insert a new number234\n",
            "123\n"
          ]
        }
      ]
    },
    {
      "cell_type": "code",
      "source": [
        "RN(0)"
      ],
      "metadata": {
        "colab": {
          "base_uri": "https://localhost:8080/"
        },
        "id": "P8j5RSlCN6cm",
        "outputId": "c11c7ca3-c74b-4111-ecff-cd21fe220965"
      },
      "execution_count": 53,
      "outputs": [
        {
          "output_type": "stream",
          "name": "stdout",
          "text": [
            "The index can't be ZERO! Please change the inx_number\n"
          ]
        }
      ]
    },
    {
      "cell_type": "code",
      "source": [],
      "metadata": {
        "id": "ULH6M-jVQTR-"
      },
      "execution_count": null,
      "outputs": []
    }
  ]
}